{
 "cells": [
  {
   "cell_type": "code",
   "id": "initial_id",
   "metadata": {
    "collapsed": true,
    "ExecuteTime": {
     "end_time": "2024-11-27T16:32:49.465290Z",
     "start_time": "2024-11-27T16:32:49.441749Z"
    }
   },
   "source": [
    "import numpy as np\n",
    "import logging\n",
    "from transformers.models.detr.image_processing_detr import DetrImageProcessor\n",
    "\n",
    "logging.basicConfig(level=logging.WARNING) \n",
    "logger = logging.getLogger(__name__)\n",
    "\n",
    "images = [np.ones((512, 512, 3))]\n",
    "annotations = [{'image_id': [], 'annotations': []}]\n",
    "size = {'max_height': 600, 'max_width': 600}\n",
    "\n",
    "image_processor = DetrImageProcessor()\n",
    "images = image_processor.preprocess(images, do_resize=True, do_rescale=False, size=size, annotations=annotations, format='coco_detection')"
   ],
   "outputs": [],
   "execution_count": 24
  },
  {
   "metadata": {
    "ExecuteTime": {
     "end_time": "2024-11-27T16:22:50.336765Z",
     "start_time": "2024-11-27T16:22:50.326069Z"
    }
   },
   "cell_type": "code",
   "source": [
    "def is_valid_annotation_coco_detection(annotation):\n",
    "    if (\n",
    "        isinstance(annotation, dict)\n",
    "        and \"image_id\" in annotation\n",
    "        and \"annotations\" in annotation\n",
    "        and isinstance(annotation[\"annotations\"], (list, tuple))\n",
    "        and (\n",
    "            # an image can have no annotations\n",
    "            len(annotation[\"annotations\"]) == 0 or isinstance(annotation[\"annotations\"][0], dict)\n",
    "        )\n",
    "    ):\n",
    "        return True\n",
    "    return False"
   ],
   "id": "13c7f2d3d1ed5244",
   "outputs": [],
   "execution_count": 9
  },
  {
   "metadata": {
    "ExecuteTime": {
     "end_time": "2024-11-27T16:34:04.191984Z",
     "start_time": "2024-11-27T16:34:04.188218Z"
    }
   },
   "cell_type": "code",
   "outputs": [
    {
     "data": {
      "text/plain": [
       "True"
      ]
     },
     "execution_count": 25,
     "metadata": {},
     "output_type": "execute_result"
    }
   ],
   "execution_count": 25,
   "source": "all(is_valid_annotation_coco_detection(ann) for ann in annotations)",
   "id": "b6019edf68e2797c"
  }
 ],
 "metadata": {
  "kernelspec": {
   "display_name": "Python 3",
   "language": "python",
   "name": "python3"
  },
  "language_info": {
   "codemirror_mode": {
    "name": "ipython",
    "version": 2
   },
   "file_extension": ".py",
   "mimetype": "text/x-python",
   "name": "python",
   "nbconvert_exporter": "python",
   "pygments_lexer": "ipython2",
   "version": "2.7.6"
  }
 },
 "nbformat": 4,
 "nbformat_minor": 5
}
