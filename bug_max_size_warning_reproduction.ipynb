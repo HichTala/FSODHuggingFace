{
 "cells": [
  {
   "cell_type": "code",
   "execution_count": 24,
   "id": "initial_id",
   "metadata": {
    "ExecuteTime": {
     "end_time": "2024-11-27T16:32:49.465290Z",
     "start_time": "2024-11-27T16:32:49.441749Z"
    },
    "collapsed": true
   },
   "outputs": [],
   "source": [
    "import numpy as np\n",
    "import logging\n",
    "from transformers.models.detr.image_processing_detr import DetrImageProcessor\n",
    "\n",
    "logging.basicConfig(level=logging.WARNING) \n",
    "logger = logging.getLogger(__name__)\n",
    "\n",
    "images = [np.ones((512, 512, 3))]\n",
    "annotations = [{'image_id': [], 'annotations': []}]\n",
    "size = {'max_height': 600, 'max_width': 600}\n",
    "\n",
    "image_processor = DetrImageProcessor()\n",
    "images = image_processor.preprocess(images, do_resize=True, do_rescale=False, size=size, annotations=annotations, format='coco_detection')"
   ]
  },
  {
   "cell_type": "code",
   "execution_count": 9,
   "id": "13c7f2d3d1ed5244",
   "metadata": {
    "ExecuteTime": {
     "end_time": "2024-11-27T16:22:50.336765Z",
     "start_time": "2024-11-27T16:22:50.326069Z"
    }
   },
   "outputs": [],
   "source": [
    "def is_valid_annotation_coco_detection(annotation):\n",
    "    if (\n",
    "        isinstance(annotation, dict)\n",
    "        and \"image_id\" in annotation\n",
    "        and \"annotations\" in annotation\n",
    "        and isinstance(annotation[\"annotations\"], (list, tuple))\n",
    "        and (\n",
    "            # an image can have no annotations\n",
    "            len(annotation[\"annotations\"]) == 0 or isinstance(annotation[\"annotations\"][0], dict)\n",
    "        )\n",
    "    ):\n",
    "        return True\n",
    "    return False"
   ]
  },
  {
   "cell_type": "code",
   "execution_count": 25,
   "id": "b6019edf68e2797c",
   "metadata": {
    "ExecuteTime": {
     "end_time": "2024-11-27T16:34:04.191984Z",
     "start_time": "2024-11-27T16:34:04.188218Z"
    }
   },
   "outputs": [
    {
     "data": {
      "text/plain": [
       "True"
      ]
     },
     "execution_count": 25,
     "metadata": {},
     "output_type": "execute_result"
    }
   ],
   "source": [
    "all(is_valid_annotation_coco_detection(ann) for ann in annotations)"
   ]
  },
  {
   "cell_type": "code",
   "execution_count": 1,
   "id": "6d6b111a9420e7d5",
   "metadata": {
    "ExecuteTime": {
     "end_time": "2024-12-04T15:01:27.981001Z",
     "start_time": "2024-12-04T15:01:24.649713Z"
    }
   },
   "outputs": [
    {
     "name": "stderr",
     "output_type": "stream",
     "text": [
      "The `max_size` parameter is deprecated and will be removed in v4.26. Please specify in `size['longest_edge'] instead`.\n"
     ]
    },
    {
     "name": "stdout",
     "output_type": "stream",
     "text": [
      "{'shortest_edge': 800, 'longest_edge': 800}\n"
     ]
    }
   ],
   "source": [
    "from transformers import AutoProcessor\n",
    "import json\n",
    "from huggingface_hub import hf_hub_download\n",
    "\n",
    "model_id = 'HichTala/test_pull_requests'\n",
    "config_path = hf_hub_download(repo_id=model_id, filename=\"preprocessor_config.json\")\n",
    "with open(config_path, \"r\") as file:\n",
    "    config = json.load(file)\n",
    "\n",
    "# Check if 'size' is a dict\n",
    "if not isinstance(config.get(\"size\"), dict):    \n",
    "    # restore processor\n",
    "    image_processor = AutoProcessor.from_pretrained(model_id)\n",
    "    print(image_processor.size)"
   ]
  }
 ],
 "metadata": {
  "kernelspec": {
   "display_name": "Python 3 (ipykernel)",
   "language": "python",
   "name": "python3"
  },
  "language_info": {
   "codemirror_mode": {
    "name": "ipython",
    "version": 3
   },
   "file_extension": ".py",
   "mimetype": "text/x-python",
   "name": "python",
   "nbconvert_exporter": "python",
   "pygments_lexer": "ipython3",
   "version": "3.11.0"
  }
 },
 "nbformat": 4,
 "nbformat_minor": 5
}
